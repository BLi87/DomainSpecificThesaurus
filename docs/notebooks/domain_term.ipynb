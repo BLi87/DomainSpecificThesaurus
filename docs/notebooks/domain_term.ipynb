{
 "cells": [
  {
   "cell_type": "markdown",
   "metadata": {
    "collapsed": true
   },
   "source": [
    "This is an example for extracting domain-term"
   ]
  },
  {
   "cell_type": "code",
   "execution_count": 7,
   "metadata": {},
   "outputs": [],
   "source": [
    "import json\n",
    "import codecs\n",
    "from collections import defaultdict\n",
    "from DST.domain_term.DomainTerm import DomainTerm"
   ]
  },
  {
   "cell_type": "code",
   "execution_count": 8,
   "metadata": {},
   "outputs": [],
   "source": [
    "domain_term = DomainTerm( maxTermsCount=300000, thresholdScore=10.0, termFreqRange=(30, float(\"inf\")))"
   ]
  },
  {
   "cell_type": "code",
   "execution_count": 10,
   "metadata": {},
   "outputs": [],
   "source": [
    "# we can use the function:extract_term to extract term \n",
    "# first generate domainSpecificVocab and generalVocab\n",
    "# Here is an example of generating domainSpecificVocab\n",
    "domain_vocab=defaultdict(int)\n",
    "with codecs.open(\"E:/docs_data/cleanEng.txt\",mode=\"r\",encoding=\"utf-8\") as fr:\n",
    "    for line in fr:\n",
    "        for word in line.split():\n",
    "            domain_vocab[word]+=1\n",
    "with codecs.open(\"E:/docs_data/engVocab.json\",mode=\"w\",encoding=\"utf-8\") as fw:\n",
    "    fw.write(json.dumps(domain_vocab))\n",
    "        \n"
   ]
  },
  {
   "cell_type": "code",
   "execution_count": null,
   "metadata": {},
   "outputs": [],
   "source": [
    "# extract terms\n",
    "with codecs.open(\"E:/docs_data/engVocab.json\", mode=\"r\", encoding=\"utf-8\") as fr:\n",
    "    domainSpecificVocab = json.loads(fr.read())\n",
    "with codecs.open(\"E:/docs_data/WikiVocabulary.json\", mode=\"r\", encoding=\"utf-8\") as fr:\n",
    "    generalVocab = json.loads(fr.read())\n",
    "domainTerms = domain_term.extract_term(domainSpecificVocab=domainSpecificVocab, generalVocab=generalVocab)\n"
   ]
  },
  {
   "cell_type": "code",
   "execution_count": 14,
   "metadata": {},
   "outputs": [
    {
     "ename": "NameError",
     "evalue": "name 'domainTerms' is not defined",
     "traceback": [
      "\u001b[1;31m---------------------------------------------------------------------------\u001b[0m",
      "\u001b[1;31mNameError\u001b[0m                                 Traceback (most recent call last)",
      "\u001b[1;32m<ipython-input-14-f35fd05c71da>\u001b[0m in \u001b[0;36m<module>\u001b[1;34m()\u001b[0m\n\u001b[0;32m      1\u001b[0m \u001b[1;31m# save terms to local\u001b[0m\u001b[1;33m\u001b[0m\u001b[1;33m\u001b[0m\u001b[0m\n\u001b[0;32m      2\u001b[0m \u001b[1;32mwith\u001b[0m \u001b[0mcodecs\u001b[0m\u001b[1;33m.\u001b[0m\u001b[0mopen\u001b[0m\u001b[1;33m(\u001b[0m\u001b[1;34m\"E:/docs_data/math_terms.txt\"\u001b[0m\u001b[1;33m,\u001b[0m \u001b[0mmode\u001b[0m\u001b[1;33m=\u001b[0m\u001b[1;34m\"w\"\u001b[0m\u001b[1;33m,\u001b[0m \u001b[0mencoding\u001b[0m\u001b[1;33m=\u001b[0m\u001b[1;34m\"utf-8\"\u001b[0m\u001b[1;33m)\u001b[0m \u001b[1;32mas\u001b[0m \u001b[0mfw\u001b[0m\u001b[1;33m:\u001b[0m\u001b[1;33m\u001b[0m\u001b[0m\n\u001b[1;32m----> 3\u001b[1;33m     \u001b[0mfw\u001b[0m\u001b[1;33m.\u001b[0m\u001b[0mwritelines\u001b[0m\u001b[1;33m(\u001b[0m\u001b[1;33m[\u001b[0m\u001b[0mterm\u001b[0m \u001b[1;33m+\u001b[0m \u001b[1;34m\"\\n\"\u001b[0m \u001b[1;32mfor\u001b[0m \u001b[0mterm\u001b[0m \u001b[1;32min\u001b[0m \u001b[0mdomainTerms\u001b[0m\u001b[1;33m]\u001b[0m\u001b[1;33m)\u001b[0m\u001b[1;33m\u001b[0m\u001b[0m\n\u001b[0m",
      "\u001b[1;31mNameError\u001b[0m: name 'domainTerms' is not defined"
     ],
     "output_type": "error"
    }
   ],
   "source": [
    "# save terms to local\n",
    "with codecs.open(\"E:/docs_data/math_terms.txt\", mode=\"w\", encoding=\"utf-8\") as fw:\n",
    "    fw.writelines([term + \"\\n\" for term in domainTerms])\n"
   ]
  },
  {
   "cell_type": "code",
   "execution_count": null,
   "metadata": {},
   "outputs": [],
   "source": []
  }
 ],
 "metadata": {
  "kernelspec": {
   "display_name": "Python 2",
   "language": "python",
   "name": "python2"
  },
  "language_info": {
   "codemirror_mode": {
    "name": "ipython",
    "version": 2
   },
   "file_extension": ".py",
   "mimetype": "text/x-python",
   "name": "python",
   "nbconvert_exporter": "python",
   "pygments_lexer": "ipython2",
   "version": "2.7.6"
  }
 },
 "nbformat": 4,
 "nbformat_minor": 0
}
