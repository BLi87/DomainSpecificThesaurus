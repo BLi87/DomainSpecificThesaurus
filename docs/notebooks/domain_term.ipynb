{
 "cells": [
  {
   "cell_type": "markdown",
   "metadata": {
    "collapsed": true
   },
   "source": [
    "This is an example for extracting domain-term"
   ]
  },
  {
   "cell_type": "code",
   "execution_count": null,
   "metadata": {
    "collapsed": false
   },
   "outputs": [],
   "source": [
    "import json\n",
    "import codecs\n",
    "from collections import defaultdict\n",
    "from DST.domain_term.DomainTerm import DomainTerm"
   ]
  },
  {
   "cell_type": "code",
   "execution_count": null,
   "metadata": {},
   "outputs": [],
   "source": [
    "domain_term = DomainTerm( maxTermsCount=10000, thresholdScore=15.0, termFreqRange=(100, float(\"inf\")))"
   ]
  },
  {
   "cell_type": "code",
   "execution_count": null,
   "metadata": {},
   "outputs": [],
   "source": [
    "# we can use the function:extract_term to extract term \n",
    "# first generate domainSpecificVocab and generalVocab\n",
    "# Here is an example of generating domainSpecificVocab\n",
    "domain_vocab=defaultdict(int)\n",
    "with codecs.open(\"E:/docs_data/cleanEngPhrase.txt\",mode=\"r\",encoding=\"utf-8\") as fr:\n",
    "    for line in fr:\n",
    "        for word in line.split():\n",
    "            domain_vocab[word]+=1\n",
    "with codecs.open(\"E:/docs_data/engVocab.json\",mode=\"w\",encoding=\"utf-8\") as fw:\n",
    "    fw.write(json.dumps(domain_vocab))\n",
    "        \n"
   ]
  },
  {
   "cell_type": "code",
   "execution_count": null,
   "metadata": {
    "collapsed": false
   },
   "outputs": [],
   "source": [
    "# extract terms\n",
    "with codecs.open(\"E:/docs_data/engVocab.json\", mode=\"r\", encoding=\"utf-8\") as fr:\n",
    "    domainSpecificVocab = json.loads(fr.read())\n",
    "with codecs.open(\"E:/docs_data/WikiVocabulary.json\", mode=\"r\", encoding=\"utf-8\") as fr:\n",
    "    generalVocab = json.loads(fr.read())\n",
    "domainTerms = domain_term.extract_term(domainSpecificVocab=domainSpecificVocab, generalVocab=generalVocab)\n"
   ]
  },
  {
   "cell_type": "code",
   "execution_count": null,
   "metadata": {},
   "outputs": [],
   "source": [
    "# save terms to local\n",
    "with codecs.open(\"E:/docs_data/eng_terms.txt\", mode=\"w\", encoding=\"utf-8\") as fw:\n",
    "    fw.writelines([term + \"\\n\" for term in domainTerms])\n"
   ]
  },
  {
   "cell_type": "code",
   "execution_count": null,
   "metadata": {},
   "outputs": [],
   "source": []
  }
 ],
 "metadata": {
  "kernelspec": {
   "display_name": "Python 2",
   "language": "python",
   "name": "python2"
  },
  "language_info": {
   "codemirror_mode": {
    "name": "ipython",
    "version": 2
   },
   "file_extension": ".py",
   "mimetype": "text/x-python",
   "name": "python",
   "nbconvert_exporter": "python",
   "pygments_lexer": "ipython2",
   "version": "2.7.6"
  }
 },
 "nbformat": 4,
 "nbformat_minor": 0
}
