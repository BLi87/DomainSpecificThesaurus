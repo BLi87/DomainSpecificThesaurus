{
 "cells": [
  {
   "cell_type": "markdown",
   "metadata": {
    "collapsed": true
   },
   "source": [
    "This file will show you how to use the module `PhraseDetection`. The function of this moudle is to tranform normal text to text with phrase.\n",
    "For example, the module will tranform `\"how to use internet explorer\"` to `\"how to use internet_explorer\"`."
   ]
  },
  {
   "cell_type": "code",
   "execution_count": 1,
   "metadata": {
    "collapsed": false
   },
   "outputs": [
    {
     "name": "stderr",
     "output_type": "stream",
     "text": [
      "C:\\ProgramData\\Anaconda3\\lib\\site-packages\\gensim\\utils.py:1212: UserWarning: detected Windows; aliasing chunkize to chunkize_serial\n  warnings.warn(\"detected Windows; aliasing chunkize to chunkize_serial\")\n"
     ]
    },
    {
     "name": "stderr",
     "output_type": "stream",
     "text": [
      "2019-02-06 11:07:39,599 - summarizer.preprocessing.cleaner - INFO - 'pattern' package not found; tag filters are not available for English\n"
     ]
    }
   ],
   "source": [
    "from DST.phrase_detection.PhraseDetection import PhraseDetection"
   ]
  },
  {
   "cell_type": "code",
   "execution_count": 4,
   "metadata": {
    "collapsed": true
   },
   "outputs": [
    {
     "name": "stderr",
     "output_type": "stream",
     "text": [
      "2019-02-06 11:32:22,283 - root - INFO - get 2-gram phrase\n"
     ]
    },
    {
     "name": "stderr",
     "output_type": "stream",
     "text": [
      "2019-02-06 11:32:22,285 - gensim.models.phrases - INFO - collecting all words and their counts\n"
     ]
    },
    {
     "name": "stderr",
     "output_type": "stream",
     "text": [
      "2019-02-06 11:32:22,285 - gensim.models.phrases - INFO - PROGRESS: at sentence #0, processed 0 words and 0 word types\n"
     ]
    },
    {
     "name": "stderr",
     "output_type": "stream",
     "text": [
      "2019-02-06 11:32:22,639 - gensim.models.phrases - INFO - PROGRESS: at sentence #10000, processed 160438 words and 79526 word types\n"
     ]
    },
    {
     "name": "stderr",
     "output_type": "stream",
     "text": [
      "2019-02-06 11:32:22,998 - gensim.models.phrases - INFO - PROGRESS: at sentence #20000, processed 322034 words and 137201 word types\n"
     ]
    },
    {
     "name": "stderr",
     "output_type": "stream",
     "text": [
      "2019-02-06 11:32:23,377 - gensim.models.phrases - INFO - PROGRESS: at sentence #30000, processed 481762 words and 188341 word types\n"
     ]
    },
    {
     "name": "stderr",
     "output_type": "stream",
     "text": [
      "2019-02-06 11:32:23,717 - gensim.models.phrases - INFO - PROGRESS: at sentence #40000, processed 641853 words and 236012 word types\n"
     ]
    },
    {
     "name": "stderr",
     "output_type": "stream",
     "text": [
      "2019-02-06 11:32:24,061 - gensim.models.phrases - INFO - PROGRESS: at sentence #50000, processed 802996 words and 282002 word types\n"
     ]
    },
    {
     "name": "stderr",
     "output_type": "stream",
     "text": [
      "2019-02-06 11:32:24,418 - gensim.models.phrases - INFO - PROGRESS: at sentence #60000, processed 969659 words and 328671 word types\n"
     ]
    },
    {
     "name": "stderr",
     "output_type": "stream",
     "text": [
      "2019-02-06 11:32:24,788 - gensim.models.phrases - INFO - PROGRESS: at sentence #70000, processed 1133861 words and 371977 word types\n"
     ]
    },
    {
     "name": "stderr",
     "output_type": "stream",
     "text": [
      "2019-02-06 11:32:25,125 - gensim.models.phrases - INFO - PROGRESS: at sentence #80000, processed 1293498 words and 411804 word types\n"
     ]
    },
    {
     "name": "stderr",
     "output_type": "stream",
     "text": [
      "2019-02-06 11:32:25,468 - gensim.models.phrases - INFO - PROGRESS: at sentence #90000, processed 1455786 words and 451172 word types\n"
     ]
    },
    {
     "name": "stderr",
     "output_type": "stream",
     "text": [
      "2019-02-06 11:32:25,806 - gensim.models.phrases - INFO - PROGRESS: at sentence #100000, processed 1612809 words and 489641 word types\n"
     ]
    },
    {
     "name": "stderr",
     "output_type": "stream",
     "text": [
      "2019-02-06 11:32:26,164 - gensim.models.phrases - INFO - PROGRESS: at sentence #110000, processed 1777565 words and 527900 word types\n"
     ]
    },
    {
     "name": "stderr",
     "output_type": "stream",
     "text": [
      "2019-02-06 11:32:26,518 - gensim.models.phrases - INFO - PROGRESS: at sentence #120000, processed 1941583 words and 567155 word types\n"
     ]
    },
    {
     "name": "stderr",
     "output_type": "stream",
     "text": [
      "2019-02-06 11:32:26,863 - gensim.models.phrases - INFO - PROGRESS: at sentence #130000, processed 2103758 words and 602069 word types\n"
     ]
    },
    {
     "name": "stderr",
     "output_type": "stream",
     "text": [
      "2019-02-06 11:32:27,221 - gensim.models.phrases - INFO - PROGRESS: at sentence #140000, processed 2269333 words and 638560 word types\n"
     ]
    },
    {
     "name": "stderr",
     "output_type": "stream",
     "text": [
      "2019-02-06 11:32:27,579 - gensim.models.phrases - INFO - PROGRESS: at sentence #150000, processed 2435082 words and 674509 word types\n"
     ]
    },
    {
     "name": "stderr",
     "output_type": "stream",
     "text": [
      "2019-02-06 11:32:27,980 - gensim.models.phrases - INFO - PROGRESS: at sentence #160000, processed 2598902 words and 708544 word types\n"
     ]
    },
    {
     "name": "stderr",
     "output_type": "stream",
     "text": [
      "2019-02-06 11:32:28,326 - gensim.models.phrases - INFO - PROGRESS: at sentence #170000, processed 2763196 words and 743131 word types\n"
     ]
    },
    {
     "name": "stderr",
     "output_type": "stream",
     "text": [
      "2019-02-06 11:32:28,676 - gensim.models.phrases - INFO - PROGRESS: at sentence #180000, processed 2927752 words and 777567 word types\n"
     ]
    },
    {
     "name": "stderr",
     "output_type": "stream",
     "text": [
      "2019-02-06 11:32:29,018 - gensim.models.phrases - INFO - PROGRESS: at sentence #190000, processed 3088854 words and 809766 word types\n"
     ]
    },
    {
     "name": "stderr",
     "output_type": "stream",
     "text": [
      "2019-02-06 11:32:29,366 - gensim.models.phrases - INFO - PROGRESS: at sentence #200000, processed 3252794 words and 842444 word types\n"
     ]
    },
    {
     "name": "stderr",
     "output_type": "stream",
     "text": [
      "2019-02-06 11:32:29,715 - gensim.models.phrases - INFO - PROGRESS: at sentence #210000, processed 3414660 words and 873278 word types\n"
     ]
    },
    {
     "name": "stderr",
     "output_type": "stream",
     "text": [
      "2019-02-06 11:32:30,067 - gensim.models.phrases - INFO - PROGRESS: at sentence #220000, processed 3578754 words and 904724 word types\n"
     ]
    },
    {
     "name": "stderr",
     "output_type": "stream",
     "text": [
      "2019-02-06 11:32:30,417 - gensim.models.phrases - INFO - PROGRESS: at sentence #230000, processed 3742098 words and 936695 word types\n"
     ]
    },
    {
     "name": "stderr",
     "output_type": "stream",
     "text": [
      "2019-02-06 11:32:30,767 - gensim.models.phrases - INFO - PROGRESS: at sentence #240000, processed 3905313 words and 967542 word types\n"
     ]
    },
    {
     "name": "stderr",
     "output_type": "stream",
     "text": [
      "2019-02-06 11:32:31,110 - gensim.models.phrases - INFO - PROGRESS: at sentence #250000, processed 4064018 words and 997997 word types\n"
     ]
    },
    {
     "name": "stderr",
     "output_type": "stream",
     "text": [
      "2019-02-06 11:32:31,459 - gensim.models.phrases - INFO - PROGRESS: at sentence #260000, processed 4225168 words and 1026936 word types\n"
     ]
    },
    {
     "name": "stderr",
     "output_type": "stream",
     "text": [
      "2019-02-06 11:32:31,794 - gensim.models.phrases - INFO - PROGRESS: at sentence #270000, processed 4383508 words and 1053615 word types\n"
     ]
    },
    {
     "name": "stderr",
     "output_type": "stream",
     "text": [
      "2019-02-06 11:32:32,145 - gensim.models.phrases - INFO - PROGRESS: at sentence #280000, processed 4546361 words and 1083691 word types\n"
     ]
    },
    {
     "name": "stderr",
     "output_type": "stream",
     "text": [
      "2019-02-06 11:32:32,485 - gensim.models.phrases - INFO - PROGRESS: at sentence #290000, processed 4703287 words and 1113524 word types\n"
     ]
    },
    {
     "name": "stderr",
     "output_type": "stream",
     "text": [
      "2019-02-06 11:32:32,830 - gensim.models.phrases - INFO - PROGRESS: at sentence #300000, processed 4865127 words and 1142459 word types\n"
     ]
    },
    {
     "name": "stderr",
     "output_type": "stream",
     "text": [
      "2019-02-06 11:32:33,167 - gensim.models.phrases - INFO - PROGRESS: at sentence #310000, processed 5022790 words and 1168121 word types\n"
     ]
    },
    {
     "name": "stderr",
     "output_type": "stream",
     "text": [
      "2019-02-06 11:32:33,520 - gensim.models.phrases - INFO - PROGRESS: at sentence #320000, processed 5184568 words and 1197628 word types\n"
     ]
    },
    {
     "name": "stderr",
     "output_type": "stream",
     "text": [
      "2019-02-06 11:32:33,874 - gensim.models.phrases - INFO - PROGRESS: at sentence #330000, processed 5347343 words and 1227555 word types\n"
     ]
    },
    {
     "name": "stderr",
     "output_type": "stream",
     "text": [
      "2019-02-06 11:32:34,227 - gensim.models.phrases - INFO - PROGRESS: at sentence #340000, processed 5509404 words and 1258257 word types\n"
     ]
    },
    {
     "name": "stderr",
     "output_type": "stream",
     "text": [
      "2019-02-06 11:32:34,581 - gensim.models.phrases - INFO - PROGRESS: at sentence #350000, processed 5672331 words and 1289073 word types\n"
     ]
    },
    {
     "name": "stderr",
     "output_type": "stream",
     "text": [
      "2019-02-06 11:32:34,937 - gensim.models.phrases - INFO - PROGRESS: at sentence #360000, processed 5835014 words and 1319364 word types\n"
     ]
    },
    {
     "name": "stderr",
     "output_type": "stream",
     "text": [
      "2019-02-06 11:32:35,290 - gensim.models.phrases - INFO - PROGRESS: at sentence #370000, processed 5996152 words and 1348968 word types\n"
     ]
    },
    {
     "name": "stderr",
     "output_type": "stream",
     "text": [
      "2019-02-06 11:32:35,648 - gensim.models.phrases - INFO - PROGRESS: at sentence #380000, processed 6158839 words and 1377591 word types\n"
     ]
    },
    {
     "name": "stderr",
     "output_type": "stream",
     "text": [
      "2019-02-06 11:32:36,103 - gensim.models.phrases - INFO - PROGRESS: at sentence #390000, processed 6320220 words and 1405389 word types\n"
     ]
    },
    {
     "name": "stderr",
     "output_type": "stream",
     "text": [
      "2019-02-06 11:32:36,458 - gensim.models.phrases - INFO - PROGRESS: at sentence #400000, processed 6485234 words and 1434852 word types\n"
     ]
    },
    {
     "name": "stderr",
     "output_type": "stream",
     "text": [
      "2019-02-06 11:32:36,813 - gensim.models.phrases - INFO - PROGRESS: at sentence #410000, processed 6651652 words and 1463314 word types\n"
     ]
    },
    {
     "name": "stderr",
     "output_type": "stream",
     "text": [
      "2019-02-06 11:32:37,178 - gensim.models.phrases - INFO - PROGRESS: at sentence #420000, processed 6823340 words and 1492350 word types\n"
     ]
    },
    {
     "name": "stderr",
     "output_type": "stream",
     "text": [
      "2019-02-06 11:32:37,547 - gensim.models.phrases - INFO - PROGRESS: at sentence #430000, processed 6995700 words and 1520886 word types\n"
     ]
    },
    {
     "name": "stderr",
     "output_type": "stream",
     "text": [
      "2019-02-06 11:32:37,902 - gensim.models.phrases - INFO - PROGRESS: at sentence #440000, processed 7159562 words and 1548631 word types\n"
     ]
    },
    {
     "name": "stderr",
     "output_type": "stream",
     "text": [
      "2019-02-06 11:32:38,247 - gensim.models.phrases - INFO - PROGRESS: at sentence #450000, processed 7319294 words and 1575326 word types\n"
     ]
    },
    {
     "name": "stderr",
     "output_type": "stream",
     "text": [
      "2019-02-06 11:32:38,599 - gensim.models.phrases - INFO - PROGRESS: at sentence #460000, processed 7481347 words and 1601040 word types\n"
     ]
    },
    {
     "name": "stderr",
     "output_type": "stream",
     "text": [
      "2019-02-06 11:32:38,947 - gensim.models.phrases - INFO - PROGRESS: at sentence #470000, processed 7642926 words and 1627280 word types\n"
     ]
    },
    {
     "name": "stderr",
     "output_type": "stream",
     "text": [
      "2019-02-06 11:32:39,306 - gensim.models.phrases - INFO - PROGRESS: at sentence #480000, processed 7809447 words and 1654075 word types\n"
     ]
    },
    {
     "name": "stderr",
     "output_type": "stream",
     "text": [
      "2019-02-06 11:32:39,655 - gensim.models.phrases - INFO - PROGRESS: at sentence #490000, processed 7971352 words and 1679409 word types\n"
     ]
    },
    {
     "name": "stderr",
     "output_type": "stream",
     "text": [
      "2019-02-06 11:32:40,008 - gensim.models.phrases - INFO - PROGRESS: at sentence #500000, processed 8134954 words and 1706392 word types\n"
     ]
    },
    {
     "name": "stderr",
     "output_type": "stream",
     "text": [
      "2019-02-06 11:32:40,353 - gensim.models.phrases - INFO - PROGRESS: at sentence #510000, processed 8295008 words and 1731159 word types\n"
     ]
    },
    {
     "name": "stderr",
     "output_type": "stream",
     "text": [
      "2019-02-06 11:32:40,706 - gensim.models.phrases - INFO - PROGRESS: at sentence #520000, processed 8456062 words and 1757777 word types\n"
     ]
    },
    {
     "name": "stderr",
     "output_type": "stream",
     "text": [
      "2019-02-06 11:32:41,060 - gensim.models.phrases - INFO - PROGRESS: at sentence #530000, processed 8621023 words and 1783033 word types\n"
     ]
    },
    {
     "name": "stderr",
     "output_type": "stream",
     "text": [
      "2019-02-06 11:32:41,413 - gensim.models.phrases - INFO - PROGRESS: at sentence #540000, processed 8780054 words and 1808268 word types\n"
     ]
    },
    {
     "name": "stderr",
     "output_type": "stream",
     "text": [
      "2019-02-06 11:32:41,767 - gensim.models.phrases - INFO - PROGRESS: at sentence #550000, processed 8941501 words and 1833528 word types\n"
     ]
    },
    {
     "name": "stderr",
     "output_type": "stream",
     "text": [
      "2019-02-06 11:32:42,114 - gensim.models.phrases - INFO - PROGRESS: at sentence #560000, processed 9101930 words and 1857924 word types\n"
     ]
    },
    {
     "name": "stderr",
     "output_type": "stream",
     "text": [
      "2019-02-06 11:32:42,469 - gensim.models.phrases - INFO - PROGRESS: at sentence #570000, processed 9264967 words and 1881769 word types\n"
     ]
    },
    {
     "name": "stderr",
     "output_type": "stream",
     "text": [
      "2019-02-06 11:32:42,820 - gensim.models.phrases - INFO - PROGRESS: at sentence #580000, processed 9423673 words and 1905775 word types\n"
     ]
    },
    {
     "name": "stderr",
     "output_type": "stream",
     "text": [
      "2019-02-06 11:32:43,172 - gensim.models.phrases - INFO - PROGRESS: at sentence #590000, processed 9584263 words and 1930669 word types\n"
     ]
    },
    {
     "name": "stderr",
     "output_type": "stream",
     "text": [
      "2019-02-06 11:32:43,524 - gensim.models.phrases - INFO - PROGRESS: at sentence #600000, processed 9746539 words and 1953515 word types\n"
     ]
    },
    {
     "name": "stderr",
     "output_type": "stream",
     "text": [
      "2019-02-06 11:32:43,885 - gensim.models.phrases - INFO - PROGRESS: at sentence #610000, processed 9912544 words and 1976469 word types\n"
     ]
    },
    {
     "name": "stderr",
     "output_type": "stream",
     "text": [
      "2019-02-06 11:32:44,237 - gensim.models.phrases - INFO - PROGRESS: at sentence #620000, processed 10075474 words and 1999767 word types\n"
     ]
    },
    {
     "name": "stderr",
     "output_type": "stream",
     "text": [
      "2019-02-06 11:32:44,582 - gensim.models.phrases - INFO - PROGRESS: at sentence #630000, processed 10234424 words and 2022571 word types\n"
     ]
    },
    {
     "name": "stderr",
     "output_type": "stream",
     "text": [
      "2019-02-06 11:32:44,932 - gensim.models.phrases - INFO - PROGRESS: at sentence #640000, processed 10395900 words and 2046038 word types\n"
     ]
    },
    {
     "name": "stderr",
     "output_type": "stream",
     "text": [
      "2019-02-06 11:32:45,279 - gensim.models.phrases - INFO - PROGRESS: at sentence #650000, processed 10556948 words and 2069604 word types\n"
     ]
    },
    {
     "name": "stderr",
     "output_type": "stream",
     "text": [
      "2019-02-06 11:32:45,628 - gensim.models.phrases - INFO - PROGRESS: at sentence #660000, processed 10716764 words and 2094594 word types\n"
     ]
    },
    {
     "name": "stderr",
     "output_type": "stream",
     "text": [
      "2019-02-06 11:32:45,971 - gensim.models.phrases - INFO - PROGRESS: at sentence #670000, processed 10875449 words and 2116579 word types\n"
     ]
    },
    {
     "name": "stderr",
     "output_type": "stream",
     "text": [
      "2019-02-06 11:32:46,348 - gensim.models.phrases - INFO - PROGRESS: at sentence #680000, processed 11035106 words and 2139912 word types\n"
     ]
    },
    {
     "name": "stderr",
     "output_type": "stream",
     "text": [
      "2019-02-06 11:32:46,699 - gensim.models.phrases - INFO - PROGRESS: at sentence #690000, processed 11198215 words and 2162422 word types\n"
     ]
    },
    {
     "name": "stderr",
     "output_type": "stream",
     "text": [
      "2019-02-06 11:32:47,047 - gensim.models.phrases - INFO - PROGRESS: at sentence #700000, processed 11358469 words and 2185899 word types\n"
     ]
    },
    {
     "name": "stderr",
     "output_type": "stream",
     "text": [
      "2019-02-06 11:32:47,404 - gensim.models.phrases - INFO - PROGRESS: at sentence #710000, processed 11522285 words and 2209880 word types\n"
     ]
    },
    {
     "name": "stderr",
     "output_type": "stream",
     "text": [
      "2019-02-06 11:32:47,764 - gensim.models.phrases - INFO - PROGRESS: at sentence #720000, processed 11687808 words and 2233600 word types\n"
     ]
    },
    {
     "name": "stderr",
     "output_type": "stream",
     "text": [
      "2019-02-06 11:32:48,124 - gensim.models.phrases - INFO - PROGRESS: at sentence #730000, processed 11851918 words and 2258256 word types\n"
     ]
    },
    {
     "name": "stderr",
     "output_type": "stream",
     "text": [
      "2019-02-06 11:32:48,497 - gensim.models.phrases - INFO - PROGRESS: at sentence #740000, processed 12021420 words and 2282996 word types\n"
     ]
    },
    {
     "name": "stderr",
     "output_type": "stream",
     "text": [
      "2019-02-06 11:32:48,859 - gensim.models.phrases - INFO - PROGRESS: at sentence #750000, processed 12187591 words and 2306816 word types\n"
     ]
    },
    {
     "name": "stderr",
     "output_type": "stream",
     "text": [
      "2019-02-06 11:32:49,221 - gensim.models.phrases - INFO - PROGRESS: at sentence #760000, processed 12353242 words and 2330082 word types\n"
     ]
    },
    {
     "name": "stderr",
     "output_type": "stream",
     "text": [
      "2019-02-06 11:32:49,576 - gensim.models.phrases - INFO - PROGRESS: at sentence #770000, processed 12515450 words and 2354188 word types\n"
     ]
    },
    {
     "name": "stderr",
     "output_type": "stream",
     "text": [
      "2019-02-06 11:32:49,935 - gensim.models.phrases - INFO - PROGRESS: at sentence #780000, processed 12678887 words and 2378507 word types\n"
     ]
    },
    {
     "name": "stderr",
     "output_type": "stream",
     "text": [
      "2019-02-06 11:32:50,298 - gensim.models.phrases - INFO - PROGRESS: at sentence #790000, processed 12844196 words and 2402833 word types\n"
     ]
    },
    {
     "name": "stderr",
     "output_type": "stream",
     "text": [
      "2019-02-06 11:32:50,660 - gensim.models.phrases - INFO - PROGRESS: at sentence #800000, processed 13007615 words and 2426217 word types\n"
     ]
    },
    {
     "name": "stderr",
     "output_type": "stream",
     "text": [
      "2019-02-06 11:32:51,018 - gensim.models.phrases - INFO - PROGRESS: at sentence #810000, processed 13171820 words and 2450691 word types\n"
     ]
    },
    {
     "name": "stderr",
     "output_type": "stream",
     "text": [
      "2019-02-06 11:32:51,379 - gensim.models.phrases - INFO - PROGRESS: at sentence #820000, processed 13332040 words and 2471947 word types\n"
     ]
    },
    {
     "name": "stderr",
     "output_type": "stream",
     "text": [
      "2019-02-06 11:32:51,732 - gensim.models.phrases - INFO - PROGRESS: at sentence #830000, processed 13494197 words and 2495102 word types\n"
     ]
    },
    {
     "name": "stderr",
     "output_type": "stream",
     "text": [
      "2019-02-06 11:32:52,094 - gensim.models.phrases - INFO - PROGRESS: at sentence #840000, processed 13659534 words and 2517649 word types\n"
     ]
    },
    {
     "name": "stderr",
     "output_type": "stream",
     "text": [
      "2019-02-06 11:32:52,462 - gensim.models.phrases - INFO - PROGRESS: at sentence #850000, processed 13826700 words and 2542814 word types\n"
     ]
    },
    {
     "name": "stderr",
     "output_type": "stream",
     "text": [
      "2019-02-06 11:32:52,830 - gensim.models.phrases - INFO - PROGRESS: at sentence #860000, processed 13994511 words and 2567278 word types\n"
     ]
    },
    {
     "name": "stderr",
     "output_type": "stream",
     "text": [
      "2019-02-06 11:32:53,197 - gensim.models.phrases - INFO - PROGRESS: at sentence #870000, processed 14162049 words and 2591469 word types\n"
     ]
    },
    {
     "name": "stderr",
     "output_type": "stream",
     "text": [
      "2019-02-06 11:32:53,558 - gensim.models.phrases - INFO - PROGRESS: at sentence #880000, processed 14328433 words and 2614219 word types\n"
     ]
    },
    {
     "name": "stderr",
     "output_type": "stream",
     "text": [
      "2019-02-06 11:32:53,927 - gensim.models.phrases - INFO - PROGRESS: at sentence #890000, processed 14497247 words and 2636701 word types\n"
     ]
    },
    {
     "name": "stderr",
     "output_type": "stream",
     "text": [
      "2019-02-06 11:32:54,287 - gensim.models.phrases - INFO - PROGRESS: at sentence #900000, processed 14661152 words and 2660090 word types\n"
     ]
    },
    {
     "name": "stderr",
     "output_type": "stream",
     "text": [
      "2019-02-06 11:32:54,640 - gensim.models.phrases - INFO - PROGRESS: at sentence #910000, processed 14822019 words and 2682257 word types\n"
     ]
    },
    {
     "name": "stderr",
     "output_type": "stream",
     "text": [
      "2019-02-06 11:32:55,002 - gensim.models.phrases - INFO - PROGRESS: at sentence #920000, processed 14985761 words and 2705291 word types\n"
     ]
    },
    {
     "name": "stderr",
     "output_type": "stream",
     "text": [
      "2019-02-06 11:32:55,366 - gensim.models.phrases - INFO - PROGRESS: at sentence #930000, processed 15151714 words and 2728749 word types\n"
     ]
    },
    {
     "name": "stderr",
     "output_type": "stream",
     "text": [
      "2019-02-06 11:32:55,724 - gensim.models.phrases - INFO - PROGRESS: at sentence #940000, processed 15314231 words and 2752843 word types\n"
     ]
    },
    {
     "name": "stderr",
     "output_type": "stream",
     "text": [
      "2019-02-06 11:32:56,076 - gensim.models.phrases - INFO - PROGRESS: at sentence #950000, processed 15475596 words and 2774540 word types\n"
     ]
    },
    {
     "name": "stderr",
     "output_type": "stream",
     "text": [
      "2019-02-06 11:32:56,671 - gensim.models.phrases - INFO - PROGRESS: at sentence #960000, processed 15632739 words and 2796842 word types\n"
     ]
    },
    {
     "name": "stderr",
     "output_type": "stream",
     "text": [
      "2019-02-06 11:32:57,017 - gensim.models.phrases - INFO - PROGRESS: at sentence #970000, processed 15791105 words and 2819525 word types\n"
     ]
    },
    {
     "name": "stderr",
     "output_type": "stream",
     "text": [
      "2019-02-06 11:32:57,370 - gensim.models.phrases - INFO - PROGRESS: at sentence #980000, processed 15951725 words and 2841061 word types\n"
     ]
    },
    {
     "name": "stderr",
     "output_type": "stream",
     "text": [
      "2019-02-06 11:32:57,722 - gensim.models.phrases - INFO - PROGRESS: at sentence #990000, processed 16113652 words and 2863969 word types\n"
     ]
    },
    {
     "name": "stderr",
     "output_type": "stream",
     "text": [
      "2019-02-06 11:32:58,071 - gensim.models.phrases - INFO - PROGRESS: at sentence #1000000, processed 16274158 words and 2883973 word types\n"
     ]
    },
    {
     "name": "stderr",
     "output_type": "stream",
     "text": [
      "2019-02-06 11:32:58,418 - gensim.models.phrases - INFO - PROGRESS: at sentence #1010000, processed 16432737 words and 2904194 word types\n"
     ]
    },
    {
     "name": "stderr",
     "output_type": "stream",
     "text": [
      "2019-02-06 11:32:58,774 - gensim.models.phrases - INFO - PROGRESS: at sentence #1020000, processed 16595439 words and 2925393 word types\n"
     ]
    },
    {
     "name": "stderr",
     "output_type": "stream",
     "text": [
      "2019-02-06 11:32:59,137 - gensim.models.phrases - INFO - PROGRESS: at sentence #1030000, processed 16761536 words and 2947746 word types\n"
     ]
    },
    {
     "name": "stderr",
     "output_type": "stream",
     "text": [
      "2019-02-06 11:32:59,497 - gensim.models.phrases - INFO - PROGRESS: at sentence #1040000, processed 16926535 words and 2970053 word types\n"
     ]
    },
    {
     "name": "stderr",
     "output_type": "stream",
     "text": [
      "2019-02-06 11:32:59,849 - gensim.models.phrases - INFO - PROGRESS: at sentence #1050000, processed 17088586 words and 2991655 word types\n"
     ]
    },
    {
     "name": "stderr",
     "output_type": "stream",
     "text": [
      "2019-02-06 11:33:00,201 - gensim.models.phrases - INFO - PROGRESS: at sentence #1060000, processed 17250300 words and 3012312 word types\n"
     ]
    },
    {
     "name": "stderr",
     "output_type": "stream",
     "text": [
      "2019-02-06 11:33:00,547 - gensim.models.phrases - INFO - PROGRESS: at sentence #1070000, processed 17409797 words and 3031962 word types\n"
     ]
    },
    {
     "name": "stderr",
     "output_type": "stream",
     "text": [
      "2019-02-06 11:33:00,902 - gensim.models.phrases - INFO - PROGRESS: at sentence #1080000, processed 17573754 words and 3052246 word types\n"
     ]
    },
    {
     "name": "stderr",
     "output_type": "stream",
     "text": [
      "2019-02-06 11:33:01,252 - gensim.models.phrases - INFO - PROGRESS: at sentence #1090000, processed 17732872 words and 3072894 word types\n"
     ]
    },
    {
     "name": "stderr",
     "output_type": "stream",
     "text": [
      "2019-02-06 11:33:01,607 - gensim.models.phrases - INFO - PROGRESS: at sentence #1100000, processed 17893098 words and 3093231 word types\n"
     ]
    },
    {
     "name": "stderr",
     "output_type": "stream",
     "text": [
      "2019-02-06 11:33:01,964 - gensim.models.phrases - INFO - PROGRESS: at sentence #1110000, processed 18055877 words and 3113646 word types\n"
     ]
    },
    {
     "name": "stderr",
     "output_type": "stream",
     "text": [
      "2019-02-06 11:33:02,315 - gensim.models.phrases - INFO - PROGRESS: at sentence #1120000, processed 18217996 words and 3133961 word types\n"
     ]
    },
    {
     "name": "stderr",
     "output_type": "stream",
     "text": [
      "2019-02-06 11:33:02,671 - gensim.models.phrases - INFO - PROGRESS: at sentence #1130000, processed 18381172 words and 3154515 word types\n"
     ]
    },
    {
     "name": "stderr",
     "output_type": "stream",
     "text": [
      "2019-02-06 11:33:03,030 - gensim.models.phrases - INFO - PROGRESS: at sentence #1140000, processed 18545402 words and 3177281 word types\n"
     ]
    },
    {
     "name": "stderr",
     "output_type": "stream",
     "text": [
      "2019-02-06 11:33:03,381 - gensim.models.phrases - INFO - PROGRESS: at sentence #1150000, processed 18705349 words and 3198119 word types\n"
     ]
    },
    {
     "name": "stderr",
     "output_type": "stream",
     "text": [
      "2019-02-06 11:33:03,730 - gensim.models.phrases - INFO - PROGRESS: at sentence #1160000, processed 18865941 words and 3218275 word types\n"
     ]
    },
    {
     "name": "stderr",
     "output_type": "stream",
     "text": [
      "2019-02-06 11:33:04,071 - gensim.models.phrases - INFO - PROGRESS: at sentence #1170000, processed 19022391 words and 3237132 word types\n"
     ]
    },
    {
     "name": "stderr",
     "output_type": "stream",
     "text": [
      "2019-02-06 11:33:04,427 - gensim.models.phrases - INFO - PROGRESS: at sentence #1180000, processed 19186549 words and 3258496 word types\n"
     ]
    },
    {
     "name": "stderr",
     "output_type": "stream",
     "text": [
      "2019-02-06 11:33:04,774 - gensim.models.phrases - INFO - PROGRESS: at sentence #1190000, processed 19346559 words and 3278963 word types\n"
     ]
    },
    {
     "name": "stderr",
     "output_type": "stream",
     "text": [
      "2019-02-06 11:33:05,124 - gensim.models.phrases - INFO - PROGRESS: at sentence #1200000, processed 19507130 words and 3297342 word types\n"
     ]
    },
    {
     "name": "stderr",
     "output_type": "stream",
     "text": [
      "2019-02-06 11:33:05,477 - gensim.models.phrases - INFO - PROGRESS: at sentence #1210000, processed 19668563 words and 3318041 word types\n"
     ]
    },
    {
     "name": "stderr",
     "output_type": "stream",
     "text": [
      "2019-02-06 11:33:05,831 - gensim.models.phrases - INFO - PROGRESS: at sentence #1220000, processed 19828885 words and 3338439 word types\n"
     ]
    },
    {
     "name": "stderr",
     "output_type": "stream",
     "text": [
      "2019-02-06 11:33:06,191 - gensim.models.phrases - INFO - PROGRESS: at sentence #1230000, processed 19993231 words and 3359745 word types\n"
     ]
    },
    {
     "name": "stderr",
     "output_type": "stream",
     "text": [
      "2019-02-06 11:33:06,539 - gensim.models.phrases - INFO - PROGRESS: at sentence #1240000, processed 20151432 words and 3378525 word types\n"
     ]
    },
    {
     "name": "stderr",
     "output_type": "stream",
     "text": [
      "2019-02-06 11:33:06,899 - gensim.models.phrases - INFO - PROGRESS: at sentence #1250000, processed 20312477 words and 3398846 word types\n"
     ]
    },
    {
     "name": "stderr",
     "output_type": "stream",
     "text": [
      "2019-02-06 11:33:07,257 - gensim.models.phrases - INFO - PROGRESS: at sentence #1260000, processed 20473964 words and 3418653 word types\n"
     ]
    },
    {
     "name": "stderr",
     "output_type": "stream",
     "text": [
      "2019-02-06 11:33:07,616 - gensim.models.phrases - INFO - PROGRESS: at sentence #1270000, processed 20637837 words and 3439098 word types\n"
     ]
    },
    {
     "name": "stderr",
     "output_type": "stream",
     "text": [
      "2019-02-06 11:33:07,971 - gensim.models.phrases - INFO - PROGRESS: at sentence #1280000, processed 20801480 words and 3458289 word types\n"
     ]
    },
    {
     "name": "stderr",
     "output_type": "stream",
     "text": [
      "2019-02-06 11:33:08,333 - gensim.models.phrases - INFO - PROGRESS: at sentence #1290000, processed 20966780 words and 3479423 word types\n"
     ]
    },
    {
     "name": "stderr",
     "output_type": "stream",
     "text": [
      "2019-02-06 11:33:08,698 - gensim.models.phrases - INFO - PROGRESS: at sentence #1300000, processed 21133257 words and 3500805 word types\n"
     ]
    },
    {
     "name": "stderr",
     "output_type": "stream",
     "text": [
      "2019-02-06 11:33:09,062 - gensim.models.phrases - INFO - PROGRESS: at sentence #1310000, processed 21296473 words and 3522105 word types\n"
     ]
    },
    {
     "name": "stderr",
     "output_type": "stream",
     "text": [
      "2019-02-06 11:33:09,417 - gensim.models.phrases - INFO - PROGRESS: at sentence #1320000, processed 21458307 words and 3542398 word types\n"
     ]
    },
    {
     "name": "stderr",
     "output_type": "stream",
     "text": [
      "2019-02-06 11:33:09,775 - gensim.models.phrases - INFO - PROGRESS: at sentence #1330000, processed 21622818 words and 3562809 word types\n"
     ]
    },
    {
     "name": "stderr",
     "output_type": "stream",
     "text": [
      "2019-02-06 11:33:10,140 - gensim.models.phrases - INFO - PROGRESS: at sentence #1340000, processed 21788079 words and 3582442 word types\n"
     ]
    },
    {
     "name": "stderr",
     "output_type": "stream",
     "text": [
      "2019-02-06 11:33:10,504 - gensim.models.phrases - INFO - PROGRESS: at sentence #1350000, processed 21952722 words and 3601536 word types\n"
     ]
    },
    {
     "name": "stderr",
     "output_type": "stream",
     "text": [
      "2019-02-06 11:33:10,857 - gensim.models.phrases - INFO - PROGRESS: at sentence #1360000, processed 22111797 words and 3619728 word types\n"
     ]
    },
    {
     "name": "stderr",
     "output_type": "stream",
     "text": [
      "2019-02-06 11:33:11,209 - gensim.models.phrases - INFO - PROGRESS: at sentence #1370000, processed 22271995 words and 3638853 word types\n"
     ]
    },
    {
     "name": "stderr",
     "output_type": "stream",
     "text": [
      "2019-02-06 11:33:11,580 - gensim.models.phrases - INFO - PROGRESS: at sentence #1380000, processed 22441102 words and 3661647 word types\n"
     ]
    },
    {
     "name": "stderr",
     "output_type": "stream",
     "text": [
      "2019-02-06 11:33:11,944 - gensim.models.phrases - INFO - PROGRESS: at sentence #1390000, processed 22606753 words and 3682282 word types\n"
     ]
    },
    {
     "name": "stderr",
     "output_type": "stream",
     "text": [
      "2019-02-06 11:33:12,301 - gensim.models.phrases - INFO - PROGRESS: at sentence #1400000, processed 22768388 words and 3701208 word types\n"
     ]
    },
    {
     "name": "stderr",
     "output_type": "stream",
     "text": [
      "2019-02-06 11:33:12,662 - gensim.models.phrases - INFO - PROGRESS: at sentence #1410000, processed 22931917 words and 3721041 word types\n"
     ]
    },
    {
     "name": "stderr",
     "output_type": "stream",
     "text": [
      "2019-02-06 11:33:13,018 - gensim.models.phrases - INFO - PROGRESS: at sentence #1420000, processed 23094448 words and 3740732 word types\n"
     ]
    },
    {
     "name": "stderr",
     "output_type": "stream",
     "text": [
      "2019-02-06 11:33:13,382 - gensim.models.phrases - INFO - PROGRESS: at sentence #1430000, processed 23258043 words and 3760637 word types\n"
     ]
    },
    {
     "name": "stderr",
     "output_type": "stream",
     "text": [
      "2019-02-06 11:33:13,749 - gensim.models.phrases - INFO - PROGRESS: at sentence #1440000, processed 23423008 words and 3780452 word types\n"
     ]
    },
    {
     "name": "stderr",
     "output_type": "stream",
     "text": [
      "2019-02-06 11:33:14,108 - gensim.models.phrases - INFO - PROGRESS: at sentence #1450000, processed 23586220 words and 3800661 word types\n"
     ]
    },
    {
     "name": "stderr",
     "output_type": "stream",
     "text": [
      "2019-02-06 11:33:14,469 - gensim.models.phrases - INFO - PROGRESS: at sentence #1460000, processed 23750143 words and 3821141 word types\n"
     ]
    },
    {
     "name": "stderr",
     "output_type": "stream",
     "text": [
      "2019-02-06 11:33:14,827 - gensim.models.phrases - INFO - PROGRESS: at sentence #1470000, processed 23912678 words and 3841383 word types\n"
     ]
    },
    {
     "name": "stderr",
     "output_type": "stream",
     "text": [
      "2019-02-06 11:33:15,196 - gensim.models.phrases - INFO - PROGRESS: at sentence #1480000, processed 24077758 words and 3860934 word types\n"
     ]
    },
    {
     "name": "stderr",
     "output_type": "stream",
     "text": [
      "2019-02-06 11:33:15,560 - gensim.models.phrases - INFO - PROGRESS: at sentence #1490000, processed 24243481 words and 3881723 word types\n"
     ]
    },
    {
     "name": "stderr",
     "output_type": "stream",
     "text": [
      "2019-02-06 11:33:15,917 - gensim.models.phrases - INFO - PROGRESS: at sentence #1500000, processed 24405881 words and 3901775 word types\n"
     ]
    },
    {
     "name": "stderr",
     "output_type": "stream",
     "text": [
      "2019-02-06 11:33:16,282 - gensim.models.phrases - INFO - PROGRESS: at sentence #1510000, processed 24570904 words and 3922660 word types\n"
     ]
    },
    {
     "name": "stderr",
     "output_type": "stream",
     "text": [
      "2019-02-06 11:33:16,648 - gensim.models.phrases - INFO - PROGRESS: at sentence #1520000, processed 24737996 words and 3944048 word types\n"
     ]
    },
    {
     "name": "stderr",
     "output_type": "stream",
     "text": [
      "2019-02-06 11:33:17,008 - gensim.models.phrases - INFO - PROGRESS: at sentence #1530000, processed 24900810 words and 3963546 word types\n"
     ]
    },
    {
     "name": "stderr",
     "output_type": "stream",
     "text": [
      "2019-02-06 11:33:17,370 - gensim.models.phrases - INFO - PROGRESS: at sentence #1540000, processed 25063843 words and 3984310 word types\n"
     ]
    },
    {
     "name": "stderr",
     "output_type": "stream",
     "text": [
      "2019-02-06 11:33:17,730 - gensim.models.phrases - INFO - PROGRESS: at sentence #1550000, processed 25227593 words and 4003796 word types\n"
     ]
    },
    {
     "name": "stderr",
     "output_type": "stream",
     "text": [
      "2019-02-06 11:33:18,091 - gensim.models.phrases - INFO - PROGRESS: at sentence #1560000, processed 25391970 words and 4022136 word types\n"
     ]
    },
    {
     "name": "stderr",
     "output_type": "stream",
     "text": [
      "2019-02-06 11:33:18,452 - gensim.models.phrases - INFO - PROGRESS: at sentence #1570000, processed 25554485 words and 4041318 word types\n"
     ]
    },
    {
     "name": "stderr",
     "output_type": "stream",
     "text": [
      "2019-02-06 11:33:18,816 - gensim.models.phrases - INFO - PROGRESS: at sentence #1580000, processed 25718020 words and 4061216 word types\n"
     ]
    },
    {
     "name": "stderr",
     "output_type": "stream",
     "text": [
      "2019-02-06 11:33:19,173 - gensim.models.phrases - INFO - PROGRESS: at sentence #1590000, processed 25879974 words and 4079181 word types\n"
     ]
    },
    {
     "name": "stderr",
     "output_type": "stream",
     "text": [
      "2019-02-06 11:33:19,541 - gensim.models.phrases - INFO - PROGRESS: at sentence #1600000, processed 26046027 words and 4098964 word types\n"
     ]
    },
    {
     "name": "stderr",
     "output_type": "stream",
     "text": [
      "2019-02-06 11:33:19,904 - gensim.models.phrases - INFO - PROGRESS: at sentence #1610000, processed 26212441 words and 4118378 word types\n"
     ]
    },
    {
     "name": "stderr",
     "output_type": "stream",
     "text": [
      "2019-02-06 11:33:20,265 - gensim.models.phrases - INFO - PROGRESS: at sentence #1620000, processed 26377154 words and 4137491 word types\n"
     ]
    },
    {
     "name": "stderr",
     "output_type": "stream",
     "text": [
      "2019-02-06 11:33:20,625 - gensim.models.phrases - INFO - PROGRESS: at sentence #1630000, processed 26540518 words and 4156714 word types\n"
     ]
    },
    {
     "name": "stderr",
     "output_type": "stream",
     "text": [
      "2019-02-06 11:33:20,981 - gensim.models.phrases - INFO - PROGRESS: at sentence #1640000, processed 26701709 words and 4174281 word types\n"
     ]
    },
    {
     "name": "stderr",
     "output_type": "stream",
     "text": [
      "2019-02-06 11:33:21,339 - gensim.models.phrases - INFO - PROGRESS: at sentence #1650000, processed 26863548 words and 4191548 word types\n"
     ]
    },
    {
     "name": "stderr",
     "output_type": "stream",
     "text": [
      "2019-02-06 11:33:21,708 - gensim.models.phrases - INFO - PROGRESS: at sentence #1660000, processed 27029852 words and 4209246 word types\n"
     ]
    },
    {
     "name": "stderr",
     "output_type": "stream",
     "text": [
      "2019-02-06 11:33:22,072 - gensim.models.phrases - INFO - PROGRESS: at sentence #1670000, processed 27193337 words and 4228220 word types\n"
     ]
    },
    {
     "name": "stderr",
     "output_type": "stream",
     "text": [
      "2019-02-06 11:33:22,445 - gensim.models.phrases - INFO - PROGRESS: at sentence #1680000, processed 27361139 words and 4248201 word types\n"
     ]
    },
    {
     "name": "stderr",
     "output_type": "stream",
     "text": [
      "2019-02-06 11:33:22,821 - gensim.models.phrases - INFO - PROGRESS: at sentence #1690000, processed 27530652 words and 4267712 word types\n"
     ]
    },
    {
     "name": "stderr",
     "output_type": "stream",
     "text": [
      "2019-02-06 11:33:23,178 - gensim.models.phrases - INFO - PROGRESS: at sentence #1700000, processed 27692718 words and 4285030 word types\n"
     ]
    },
    {
     "name": "stderr",
     "output_type": "stream",
     "text": [
      "2019-02-06 11:33:23,553 - gensim.models.phrases - INFO - PROGRESS: at sentence #1710000, processed 27860846 words and 4304197 word types\n"
     ]
    },
    {
     "name": "stderr",
     "output_type": "stream",
     "text": [
      "2019-02-06 11:33:23,923 - gensim.models.phrases - INFO - PROGRESS: at sentence #1720000, processed 28027869 words and 4324564 word types\n"
     ]
    },
    {
     "name": "stderr",
     "output_type": "stream",
     "text": [
      "2019-02-06 11:33:24,302 - gensim.models.phrases - INFO - PROGRESS: at sentence #1730000, processed 28193603 words and 4344803 word types\n"
     ]
    },
    {
     "name": "stderr",
     "output_type": "stream",
     "text": [
      "2019-02-06 11:33:24,680 - gensim.models.phrases - INFO - PROGRESS: at sentence #1740000, processed 28363942 words and 4365767 word types\n"
     ]
    },
    {
     "name": "stderr",
     "output_type": "stream",
     "text": [
      "2019-02-06 11:33:25,055 - gensim.models.phrases - INFO - PROGRESS: at sentence #1750000, processed 28533609 words and 4386332 word types\n"
     ]
    },
    {
     "name": "stderr",
     "output_type": "stream",
     "text": [
      "2019-02-06 11:33:25,432 - gensim.models.phrases - INFO - PROGRESS: at sentence #1760000, processed 28704106 words and 4406359 word types\n"
     ]
    },
    {
     "name": "stderr",
     "output_type": "stream",
     "text": [
      "2019-02-06 11:33:25,801 - gensim.models.phrases - INFO - PROGRESS: at sentence #1770000, processed 28869358 words and 4426670 word types\n"
     ]
    },
    {
     "name": "stderr",
     "output_type": "stream",
     "text": [
      "2019-02-06 11:33:26,166 - gensim.models.phrases - INFO - PROGRESS: at sentence #1780000, processed 29034052 words and 4444704 word types\n"
     ]
    },
    {
     "name": "stderr",
     "output_type": "stream",
     "text": [
      "2019-02-06 11:33:26,534 - gensim.models.phrases - INFO - PROGRESS: at sentence #1790000, processed 29199727 words and 4464031 word types\n"
     ]
    },
    {
     "name": "stderr",
     "output_type": "stream",
     "text": [
      "2019-02-06 11:33:26,893 - gensim.models.phrases - INFO - PROGRESS: at sentence #1800000, processed 29363058 words and 4482636 word types\n"
     ]
    },
    {
     "name": "stderr",
     "output_type": "stream",
     "text": [
      "2019-02-06 11:33:27,259 - gensim.models.phrases - INFO - PROGRESS: at sentence #1810000, processed 29528095 words and 4500817 word types\n"
     ]
    },
    {
     "name": "stderr",
     "output_type": "stream",
     "text": [
      "2019-02-06 11:33:27,628 - gensim.models.phrases - INFO - PROGRESS: at sentence #1820000, processed 29694600 words and 4520927 word types\n"
     ]
    },
    {
     "name": "stderr",
     "output_type": "stream",
     "text": [
      "2019-02-06 11:33:27,992 - gensim.models.phrases - INFO - PROGRESS: at sentence #1830000, processed 29858644 words and 4539458 word types\n"
     ]
    },
    {
     "name": "stderr",
     "output_type": "stream",
     "text": [
      "2019-02-06 11:33:28,357 - gensim.models.phrases - INFO - PROGRESS: at sentence #1840000, processed 30022651 words and 4557577 word types\n"
     ]
    },
    {
     "name": "stderr",
     "output_type": "stream",
     "text": [
      "2019-02-06 11:33:28,719 - gensim.models.phrases - INFO - PROGRESS: at sentence #1850000, processed 30185334 words and 4576545 word types\n"
     ]
    },
    {
     "name": "stderr",
     "output_type": "stream",
     "text": [
      "2019-02-06 11:33:29,081 - gensim.models.phrases - INFO - PROGRESS: at sentence #1860000, processed 30347959 words and 4595271 word types\n"
     ]
    },
    {
     "name": "stderr",
     "output_type": "stream",
     "text": [
      "2019-02-06 11:33:29,444 - gensim.models.phrases - INFO - PROGRESS: at sentence #1870000, processed 30513123 words and 4612813 word types\n"
     ]
    },
    {
     "name": "stderr",
     "output_type": "stream",
     "text": [
      "2019-02-06 11:33:29,808 - gensim.models.phrases - INFO - PROGRESS: at sentence #1880000, processed 30676758 words and 4631158 word types\n"
     ]
    },
    {
     "name": "stderr",
     "output_type": "stream",
     "text": [
      "2019-02-06 11:33:30,168 - gensim.models.phrases - INFO - PROGRESS: at sentence #1890000, processed 30838720 words and 4649710 word types\n"
     ]
    },
    {
     "name": "stderr",
     "output_type": "stream",
     "text": [
      "2019-02-06 11:33:30,528 - gensim.models.phrases - INFO - PROGRESS: at sentence #1900000, processed 30998895 words and 4667219 word types\n"
     ]
    },
    {
     "name": "stderr",
     "output_type": "stream",
     "text": [
      "2019-02-06 11:33:30,647 - gensim.models.phrases - INFO - collected 4673775 word types from a corpus of 31052121 words (unigram + bigrams) and 1903269 sentences\n"
     ]
    },
    {
     "name": "stderr",
     "output_type": "stream",
     "text": [
      "2019-02-06 11:33:30,648 - gensim.models.phrases - INFO - using 4673775 counts as vocab in Phrases<0 vocab, min_count=10, threshold=15.0, max_vocab_size=40000000>\n"
     ]
    },
    {
     "name": "stderr",
     "output_type": "stream",
     "text": [
      "2019-02-06 11:33:30,648 - gensim.utils - INFO - saving Phrases object under E:/docs_data/Phrases/bigram.m, separately None\n"
     ]
    },
    {
     "name": "stderr",
     "output_type": "stream",
     "text": [
      "2019-02-06 11:33:40,385 - gensim.utils - INFO - saved E:/docs_data/Phrases/bigram.m\n"
     ]
    },
    {
     "name": "stderr",
     "output_type": "stream",
     "text": [
      "2019-02-06 11:33:40,387 - gensim.models.phrases - INFO - source_vocab length 4673775\n"
     ]
    },
    {
     "name": "stderr",
     "output_type": "stream",
     "text": [
      "2019-02-06 11:34:29,361 - gensim.models.phrases - INFO - Phraser built with 12563 phrasegrams\n"
     ]
    },
    {
     "name": "stderr",
     "output_type": "stream",
     "text": [
      "2019-02-06 11:36:11,321 - DST.phrase_detection.PhraseDetection - INFO - delete all phraser\n"
     ]
    }
   ],
   "source": [
    "pd = PhraseDetection(savePhraserPaths=[\"E:/docs_data/Phrases/bigram.m\"], file_overwrite=False, min_count=10, threshold=15.0,\n",
    "                     max_vocab_size=40000000, delimiter=b'_', scoring='default', wordNumInPhrase=2)\n",
    "# train phrase\n",
    "pd.fit(sentencesPath = \"E:/docs_data/cleanEng.txt\")\n",
    "# transform \n",
    "pd.transform(sentencesPath=\"E:/docs_data/cleanEng.txt\",savePath=\"E:/docs_data/cleanEngPhrase.txt\")\n"
   ]
  },
  {
   "cell_type": "code",
   "execution_count": null,
   "metadata": {},
   "outputs": [],
   "source": []
  }
 ],
 "metadata": {
  "kernelspec": {
   "display_name": "Python 2",
   "language": "python",
   "name": "python2"
  },
  "language_info": {
   "codemirror_mode": {
    "name": "ipython",
    "version": 2
   },
   "file_extension": ".py",
   "mimetype": "text/x-python",
   "name": "python",
   "nbconvert_exporter": "python",
   "pygments_lexer": "ipython2",
   "version": "2.7.6"
  }
 },
 "nbformat": 4,
 "nbformat_minor": 0
}
