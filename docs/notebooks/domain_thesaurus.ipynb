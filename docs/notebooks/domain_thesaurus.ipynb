{
 "cells": [
  {
   "cell_type": "markdown",
   "metadata": {
    "collapsed": true
   },
   "source": [
    "This a simple tutorial to extract a doomain thesaurus."
   ]
  },
  {
   "cell_type": "code",
   "execution_count": null,
   "metadata": {},
   "outputs": [],
   "source": [
    "from DST.domain_thesaurus.DomainThesaurus import DomainThesaurus\n",
    "# the class DomainThesaurus need clean general corpus and domain corpus, one line one sentence\n",
    "# if you do not have a clean corpus, you need to clean a corpus on your own or you can use the package to clean\n",
    "# several specific corpus. Here is an example to clean StackOveeflow data:\n",
    "from DST.datasets.CleanData import CleanDataSO\n",
    "cdso = CleanDataSO(so_xml_path = \"your so xml path\", clean_data_path = \"save path\")\n",
    "cdso.transform()"
   ]
  },
  {
   "cell_type": "code",
   "execution_count": null,
   "metadata": {},
   "outputs": [],
   "source": [
    "domain_thesaurus = DomainThesaurus(domain_specific_corpus_path=\"your domain specific corpus path\",\n",
    "                                   general_corpus_path=\"your general corpus path\", outputDir=\"path of output\")\n",
    "# This is a simple usage for extracting domain-specific thesaurus.\n",
    "# This class contains several modules. Different modules have different functions. You can use our default module\n",
    "# class or you can write your own module. Note that your own class must have same input and out out as default class\n",
    "# functions."
   ]
  },
  {
   "cell_type": "code",
   "execution_count": null,
   "metadata": {},
   "outputs": [],
   "source": []
  }
 ],
 "metadata": {
  "kernelspec": {
   "display_name": "Python 2",
   "language": "python",
   "name": "python2"
  },
  "language_info": {
   "codemirror_mode": {
    "name": "ipython",
    "version": 2
   },
   "file_extension": ".py",
   "mimetype": "text/x-python",
   "name": "python",
   "nbconvert_exporter": "python",
   "pygments_lexer": "ipython2",
   "version": "2.7.6"
  }
 },
 "nbformat": 4,
 "nbformat_minor": 0
}
