{
 "cells": [
  {
   "cell_type": "markdown",
   "metadata": {
    "collapsed": true
   },
   "source": [
    "The module `SemanticRelatedWord` can get semantic related words for a term"
   ]
  },
  {
   "cell_type": "code",
   "execution_count": 4,
   "metadata": {},
   "outputs": [],
   "source": [
    "import codecs\n",
    "import json\n",
    "from DST.semantic_related_word.SemanticRelatedWord import SemanticRelatedWord"
   ]
  },
  {
   "cell_type": "code",
   "execution_count": 6,
   "metadata": {
    "collapsed": false
   },
   "outputs": [
    {
     "name": "stderr",
     "output_type": "stream",
     "text": [
      "2019-02-06 13:06:41,324 - DST.semantic_related_word.SemanticRelatedWord - WARNING - E:/docs_data/fasttext/fasttext.model already exists, program will load it.\n"
     ]
    },
    {
     "name": "stderr",
     "output_type": "stream",
     "text": [
      "2019-02-06 13:06:41,328 - gensim.utils - INFO - loading FastText object from E:/docs_data/fasttext/fasttext.model\n"
     ]
    },
    {
     "name": "stderr",
     "output_type": "stream",
     "text": [
      "2019-02-06 13:06:41,673 - gensim.utils - INFO - loading wv recursively from E:/docs_data/fasttext/fasttext.model.wv.* with mmap=None\n"
     ]
    },
    {
     "name": "stderr",
     "output_type": "stream",
     "text": [
      "2019-02-06 13:06:41,673 - gensim.utils - INFO - loading vectors from E:/docs_data/fasttext/fasttext.model.wv.vectors.npy with mmap=None\n"
     ]
    },
    {
     "name": "stderr",
     "output_type": "stream",
     "text": [
      "2019-02-06 13:06:41,710 - gensim.utils - INFO - loading vectors_vocab from E:/docs_data/fasttext/fasttext.model.wv.vectors_vocab.npy with mmap=None\n"
     ]
    },
    {
     "name": "stderr",
     "output_type": "stream",
     "text": [
      "2019-02-06 13:06:41,743 - gensim.utils - INFO - loading vectors_ngrams from E:/docs_data/fasttext/fasttext.model.wv.vectors_ngrams.npy with mmap=None\n"
     ]
    },
    {
     "name": "stderr",
     "output_type": "stream",
     "text": [
      "2019-02-06 13:06:41,871 - gensim.utils - INFO - setting ignored attribute vectors_norm to None\n"
     ]
    },
    {
     "name": "stderr",
     "output_type": "stream",
     "text": [
      "2019-02-06 13:06:41,872 - gensim.utils - INFO - setting ignored attribute vectors_vocab_norm to None\n"
     ]
    },
    {
     "name": "stderr",
     "output_type": "stream",
     "text": [
      "2019-02-06 13:06:41,873 - gensim.utils - INFO - setting ignored attribute vectors_ngrams_norm to None\n"
     ]
    },
    {
     "name": "stderr",
     "output_type": "stream",
     "text": [
      "2019-02-06 13:06:41,873 - gensim.utils - INFO - setting ignored attribute buckets_word to None\n"
     ]
    },
    {
     "name": "stderr",
     "output_type": "stream",
     "text": [
      "2019-02-06 13:06:41,873 - gensim.utils - INFO - loading vocabulary recursively from E:/docs_data/fasttext/fasttext.model.vocabulary.* with mmap=None\n"
     ]
    },
    {
     "name": "stderr",
     "output_type": "stream",
     "text": [
      "2019-02-06 13:06:41,874 - gensim.utils - INFO - loading trainables recursively from E:/docs_data/fasttext/fasttext.model.trainables.* with mmap=None\n"
     ]
    },
    {
     "name": "stderr",
     "output_type": "stream",
     "text": [
      "2019-02-06 13:06:41,874 - gensim.utils - INFO - loading syn1neg from E:/docs_data/fasttext/fasttext.model.trainables.syn1neg.npy with mmap=None\n"
     ]
    },
    {
     "name": "stderr",
     "output_type": "stream",
     "text": [
      "2019-02-06 13:06:41,911 - gensim.utils - INFO - loading vectors_vocab_lockf from E:/docs_data/fasttext/fasttext.model.trainables.vectors_vocab_lockf.npy with mmap=None\n"
     ]
    },
    {
     "name": "stderr",
     "output_type": "stream",
     "text": [
      "2019-02-06 13:06:41,945 - gensim.utils - INFO - loading vectors_ngrams_lockf from E:/docs_data/fasttext/fasttext.model.trainables.vectors_ngrams_lockf.npy with mmap=None\n"
     ]
    },
    {
     "name": "stderr",
     "output_type": "stream",
     "text": [
      "2019-02-06 13:06:42,087 - gensim.utils - INFO - loaded E:/docs_data/fasttext/fasttext.model\n"
     ]
    },
    {
     "name": "stderr",
     "output_type": "stream",
     "text": [
      "2019-02-06 13:06:42,262 - DST.semantic_related_word.SemanticRelatedWord - WARNING - E:/docs_data/skipgram/skipgram.model already exists, program will load it.\n"
     ]
    },
    {
     "name": "stderr",
     "output_type": "stream",
     "text": [
      "2019-02-06 13:06:42,263 - gensim.utils - INFO - loading Word2Vec object from E:/docs_data/skipgram/skipgram.model\n"
     ]
    },
    {
     "name": "stderr",
     "output_type": "stream",
     "text": [
      "2019-02-06 13:06:42,459 - gensim.utils - INFO - loading wv recursively from E:/docs_data/skipgram/skipgram.model.wv.* with mmap=None\n"
     ]
    },
    {
     "name": "stderr",
     "output_type": "stream",
     "text": [
      "2019-02-06 13:06:42,460 - gensim.utils - INFO - loading vectors from E:/docs_data/skipgram/skipgram.model.wv.vectors.npy with mmap=None\n"
     ]
    },
    {
     "name": "stderr",
     "output_type": "stream",
     "text": [
      "2019-02-06 13:06:42,497 - gensim.utils - INFO - setting ignored attribute vectors_norm to None\n"
     ]
    },
    {
     "name": "stderr",
     "output_type": "stream",
     "text": [
      "2019-02-06 13:06:42,497 - gensim.utils - INFO - loading vocabulary recursively from E:/docs_data/skipgram/skipgram.model.vocabulary.* with mmap=None\n"
     ]
    },
    {
     "name": "stderr",
     "output_type": "stream",
     "text": [
      "2019-02-06 13:06:42,498 - gensim.utils - INFO - loading trainables recursively from E:/docs_data/skipgram/skipgram.model.trainables.* with mmap=None\n"
     ]
    },
    {
     "name": "stderr",
     "output_type": "stream",
     "text": [
      "2019-02-06 13:06:42,498 - gensim.utils - INFO - setting ignored attribute cum_table to None\n"
     ]
    },
    {
     "name": "stderr",
     "output_type": "stream",
     "text": [
      "2019-02-06 13:06:42,499 - gensim.utils - INFO - loaded E:/docs_data/skipgram/skipgram.model\n"
     ]
    },
    {
     "name": "stderr",
     "output_type": "stream",
     "text": [
      "2019-02-06 13:06:42,686 - DST.semantic_related_word.SemanticRelatedWord - INFO - get semantic related words"
     ]
    },
    {
     "name": "stderr",
     "output_type": "stream",
     "text": [
      "\n"
     ]
    },
    {
     "name": "stderr",
     "output_type": "stream",
     "text": [
      "2019-02-06 13:06:42,687 - gensim.models.keyedvectors - INFO - precomputing L2-norms of word weight vectors\n"
     ]
    },
    {
     "name": "stderr",
     "output_type": "stream",
     "text": [
      "2019-02-06 13:06:42,774 - gensim.models.keyedvectors - INFO - precomputing L2-norms of ngram weight vectors\n"
     ]
    },
    {
     "name": "stderr",
     "output_type": "stream",
     "text": [
      "C:\\ProgramData\\Anaconda3\\lib\\site-packages\\gensim\\matutils.py:737: FutureWarning: Conversion of the second argument of issubdtype from `int` to `np.signedinteger` is deprecated. In future, it will be treated as `np.int32 == np.dtype(int).type`.\n  if np.issubdtype(vec.dtype, np.int):\n2019-02-06 13:06:43,140 - gensim.models.keyedvectors - INFO - precomputing L2-norms of word weight vectors\n"
     ]
    }
   ],
   "source": [
    "srw = SemanticRelatedWord(domain_corpus_phrase_path = \"E:/docs_data/cleanEngPhrase.txt\", \n",
    "                          fasttext_path=\"E:/docs_data/fasttext/fasttext.model\", \n",
    "                          skipgram_path=\"E:/docs_data/skipgram/skipgram.model\", \n",
    "                          file_overwrite=False,\n",
    "                 topn_fasttext=8, topn_skipgram=15, min_count=5, size=200, workers=8, window=5)\n",
    "with codecs.open(\"E:/docs_data/eng_terms.txt\",mode=\"r\",encoding=\"utf-8\") as fr:\n",
    "    terms = [line.strip() for line in fr] \n",
    "\n",
    "res = srw.getSemanticRelatedWords(terms=terms)\n",
    "\n",
    "# save result to local\n",
    "with codecs.open(filename=\"E:/docs_data/semantic_related_words.json\",mode=\"w\",encoding=\"utf-8\") as fw:\n",
    "    fw.write(json.dumps(res))"
   ]
  },
  {
   "cell_type": "code",
   "execution_count": null,
   "metadata": {},
   "outputs": [],
   "source": []
  }
 ],
 "metadata": {
  "kernelspec": {
   "display_name": "Python 2",
   "language": "python",
   "name": "python2"
  },
  "language_info": {
   "codemirror_mode": {
    "name": "ipython",
    "version": 2
   },
   "file_extension": ".py",
   "mimetype": "text/x-python",
   "name": "python",
   "nbconvert_exporter": "python",
   "pygments_lexer": "ipython2",
   "version": "2.7.6"
  }
 },
 "nbformat": 4,
 "nbformat_minor": 0
}
