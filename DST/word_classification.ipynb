{
 "cells": [
  {
   "cell_type": "markdown",
   "metadata": {
    "collapsed": true
   },
   "source": [
    "Module `WordClassification` can divide a term's semantic related words into 3 types: synonym, abbreviation and other.\n",
    "For example, { \"internet explorer\": {\"synonym\":[ \"internetexporer\", \"internet explorers\", \"internetexplorer\", \"internetexplorers\"], \"abbreviation\":[\"msie\", \"iexplorer\", \"iexplore\", \"ie\"], \"other\":[\"fireforx\", \"opera\", \"browswers\"]  }  }"
   ]
  },
  {
   "cell_type": "code",
   "execution_count": 1,
   "metadata": {
    "collapsed": false
   },
   "outputs": [
    {
     "name": "stderr",
     "output_type": "stream",
     "text": [
      "C:\\ProgramData\\Anaconda3\\lib\\site-packages\\gensim\\utils.py:1212: UserWarning: detected Windows; aliasing chunkize to chunkize_serial\n  warnings.warn(\"detected Windows; aliasing chunkize to chunkize_serial\")\n"
     ]
    },
    {
     "name": "stderr",
     "output_type": "stream",
     "text": [
      "2019-02-06 13:43:19,517 - summarizer.preprocessing.cleaner - INFO - 'pattern' package not found; tag filters are not available for English\n"
     ]
    }
   ],
   "source": [
    "import codecs\n",
    "import json\n",
    "from DST.word_classification.WordClassification import WordClassification,default_classify_func,get_default_synonym_types"
   ]
  },
  {
   "cell_type": "code",
   "execution_count": 2,
   "metadata": {},
   "outputs": [],
   "source": [
    "# you can implement your own  classify_word_function and give synonym_types, you can also implement your own class\n",
    "wordclass = WordClassification(classify_word_func=default_classify_func, synonym_types=get_default_synonym_types())\n",
    "with codecs.open(filename=\"E:/docs_data/semantic_related_words.json\", mode=\"r\", encoding=\"utf-8\") as fr:\n",
    "    vocab = json.loads(fr.read())\n",
    "    res = wordclass.classifyWords(vocab=vocab)\n",
    "with codecs.open(filename=\"E:/docs_data/semantic_related_words_classification.json\", mode=\"w\",\n",
    "                 encoding=\"utf-8\") as fw:\n",
    "    fw.write(json.dumps(res))\n"
   ]
  },
  {
   "cell_type": "code",
   "execution_count": null,
   "metadata": {},
   "outputs": [],
   "source": []
  }
 ],
 "metadata": {
  "kernelspec": {
   "display_name": "Python 2",
   "language": "python",
   "name": "python2"
  },
  "language_info": {
   "codemirror_mode": {
    "name": "ipython",
    "version": 2
   },
   "file_extension": ".py",
   "mimetype": "text/x-python",
   "name": "python",
   "nbconvert_exporter": "python",
   "pygments_lexer": "ipython2",
   "version": "2.7.6"
  }
 },
 "nbformat": 4,
 "nbformat_minor": 0
}
